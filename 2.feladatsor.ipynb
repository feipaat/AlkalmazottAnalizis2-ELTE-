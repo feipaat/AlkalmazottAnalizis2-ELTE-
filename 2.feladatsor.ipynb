{
 "cells": [
  {
   "cell_type": "markdown",
   "metadata": {},
   "source": [
    "# <center>Alkalmazott Analízis II.</center>\n",
    "## <center>2. Feladatsor</center>\n",
    "\n",
    "<img src=\"holiday.gif\" width=\"700\">\n",
    "\n",
    "<br>\n",
    "### LAER iteratív megoldási módszerei\n",
    "#### Jacobi- és Gauss-Seidel-iteráció\n",
    "\n",
    "1.feladat. Tegyünk meg egy-egy lépést a Jacobi- és a Gauss-Seidel-iterációkkal az $x=(1,1,1)^T$ vektorról indulva az alábbi egyenletrendszerre. Számoljuk ki a megfelelõ iterációs mátrixokat és azok $1$-es, illetve végtelen normáit.\n",
    "\\begin{alignat*}{11}\n",
    "  2x_1 &-{} & x_2 &{} & &={} & 1 \\\\\n",
    "   -x_1 &+{} & 2x_2 &-{} & x_3 &={} & 2 \\\\\n",
    "   &- & x_2 &+{} &  2x_3 &={} & 3\n",
    "\\end{alignat*}"
   ]
  },
  {
   "cell_type": "code",
   "execution_count": 22,
   "metadata": {},
   "outputs": [
    {
     "name": "stdout",
     "output_type": "stream",
     "text": [
      "\n",
      "A feladat megoldasanak kozelitese Gauss-Seidel-iteracioval tortent.\n",
      "M =\n",
      "\n",
      "  -0.00000   0.50000  -0.00000\n",
      "  -0.00000   0.25000   0.50000\n",
      "  -0.00000   0.12500   0.25000\n",
      "\n",
      "rho =  0.50000\n",
      "norma =  0.69048\n",
      "lepes =  54.252\n",
      "x_k =\n",
      "\n",
      "   2.4980\n",
      "   3.9980\n",
      "   3.4990\n",
      "\n",
      "x_p =\n",
      "\n",
      "   2.5000\n",
      "   4.0000\n",
      "   3.5000\n",
      "\n"
     ]
    }
   ],
   "source": [
    "[M,rho,norma,lepes, x_k,x_p]=jacobigs([2 -1 0; -1 2 -1; 0 -1 2], [1 2 3]', [1 1 1]',11,10^(-6),'gs')\n",
    "%[M,rho,norma,lepes, x_k,x_p]=jacobigs([2 -1 0; -1 2 -1; 0 -1 2], [1 2 3]', [1 1 0]',11,10^(-6),'jacobi');\n"
   ]
  },
  {
   "cell_type": "markdown",
   "metadata": {},
   "source": [
    "<br>\n",
    "2.feladat. Tekintsük az $Ax=b$ egyenletrendszert, ahol\n",
    "<br>\n",
    "<br>\n",
    "$A=\\left(\n",
    "  \\begin{array}{ccc}\n",
    " 1 & 1/2 & 1\\\\\n",
    " 1/2 & 1 & 1 \\\\\n",
    " -2 & 2 & 1\\end{array} \\right),\n",
    "$\n",
    "&nbsp;&nbsp;&nbsp;\n",
    "$b=\\left(\n",
    "  \\begin{array}{c}\n",
    " 1\\\\\n",
    " 4\\\\\n",
    " 3\\end{array} \\right).\n",
    "$\n",
    "\n",
    "Ellenőrizzük, hogy a Jacobi-, illetve a Gauss-Seidel-iterációk konvergensek-e és tegyünk meg egy lépést mindkét módszerrel az $x=(1,2,6)^T$ kezdővektorral indulva.\n"
   ]
  },
  {
   "cell_type": "code",
   "execution_count": 21,
   "metadata": {},
   "outputs": [
    {
     "name": "stdout",
     "output_type": "stream",
     "text": [
      "\n",
      "A feladat megoldasanak kozelitese Jacobi-iteracioval tortent.\n",
      "M =\n",
      "\n",
      "  -0.00000  -0.50000  -1.00000\n",
      "  -0.50000  -0.00000  -1.00000\n",
      "   2.00000  -2.00000  -0.00000\n",
      "\n",
      "rho =  0.50000\n",
      "norma =  2.8723\n",
      "lepes = -5.5941 + 2.2662i\n",
      "x_k =\n",
      "\n",
      "    4.6667\n",
      "   10.6666\n",
      "   -9.0000\n",
      "\n",
      "x_p =\n",
      "\n",
      "    4.6667\n",
      "   10.6667\n",
      "   -9.0000\n",
      "\n",
      "\n",
      "A feladat megoldasanak kozelitese Gauss-Seidel-iteracioval tortent.\n",
      "M =\n",
      "\n",
      "  -0.00000  -0.50000  -1.00000\n",
      "  -0.00000   0.25000  -0.50000\n",
      "  -0.00000  -1.50000  -1.00000\n",
      "\n",
      "rho =  1.4430\n",
      "norma =  2.0707\n",
      "lepes = -17.7272 +  3.4286i\n",
      "x_k =\n",
      "\n",
      "   7076.4\n",
      "   2636.6\n",
      "   8882.5\n",
      "\n",
      "x_p =\n",
      "\n",
      "    4.6667\n",
      "   10.6667\n",
      "   -9.0000\n",
      "\n"
     ]
    }
   ],
   "source": [
    "clear all\n",
    "[M,rho,norma,lepes, x_k,x_p]=jacobigs([1 1/2 1; 1/2 1 1; -2 2 1], [1 4 3]', [1 2 6]',20,10^(-3),'jacobi')\n",
    "[M,rho,norma,lepes, x_k,x_p]=jacobigs([1 1/2 1; 1/2 1 1; -2 2 1], [1 4 3]', [1 2 6]',20,10^(-6),'gs')\n"
   ]
  },
  {
   "cell_type": "markdown",
   "metadata": {},
   "source": [
    "<br>\n",
    "\n",
    "3.feladat. Tekintsük az $Ax=b$ egyenletrendszert, ahol\n",
    "<br>\n",
    "<br>\n",
    "$A=\\left(\n",
    "  \\begin{array}{ccc}\n",
    " 5 & 0 & -2\\\\\n",
    " -4 & 8 & 2 \\\\\n",
    " 0 & 5 & 9\\end{array} \\right),\n",
    "$\n",
    "&nbsp;&nbsp;&nbsp;\n",
    "$b=\\left(\n",
    "  \\begin{array}{c}\n",
    " -1\\\\\n",
    " 18\\\\\n",
    " 37\\end{array} \\right).\n",
    "$\n",
    "\n",
    "+ Ellenőrizzük, hogy a Jacobi-, illetve a Gauss-Seidel-iterációk konvergensek és tegyünk meg két lépést mindkét módszerrel az $x=(0,0,0)^T$ kezdővektorral indulva.\n",
    "+ Hány lépést kellene megtenni a Jacobi- és a Gauss-Seidel iterációval a $10^{-2}$ pontosság eléréséhez?\n",
    "\n"
   ]
  },
  {
   "cell_type": "code",
   "execution_count": 14,
   "metadata": {},
   "outputs": [
    {
     "name": "stdout",
     "output_type": "stream",
     "text": [
      "A feladat megoldasanak kozelitese Jacobi-iteracioval tortent.\n",
      "\n",
      "A feladat megoldasanak kozelitese Gauss-Seidel-iteracioval tortent.\n"
     ]
    }
   ],
   "source": [
    "[M,rho,norma,lepes, x_k,x_p]=jacobigs([5 0 -2; -4 8 2; 0 5 9], [-1 18 37]', [0 0 0]',2,10^(-2),'jacobi');\n",
    "[M,rho,norma,lepes, x_k,x_p]=jacobigs([5 0 -2; -4 8 2; 0 5 9], [-1 18 37]', [0 0 0]',2,10^(-2),'gs');"
   ]
  },
  {
   "cell_type": "markdown",
   "metadata": {},
   "source": [
    "<br>\n",
    "\n",
    "#### Richardson-iteráció\n",
    "\n",
    "4.feladat. Hogyan kell választani a Richardson-iterációban a $p$ paraméter értékét, hogy $\\rho(I-pA)<1$ teljesüljön? A $p$ paraméter mely $p_{opt}$ értéke minimalizálja az $M_R$ mátrix spektrálsugarát?\n",
    "\n",
    "5.feladat. Legyen  \n",
    "<br>\n",
    "$A=\\left(\n",
    "  \\begin{array}{cc}\n",
    " 2 & -1\\\\\n",
    " -1 & 2 \\end{array} \\right).\n",
    "$\n",
    "<br>\n",
    "\n",
    "Számítsuk ki $A$ spektrálsugarát, illetve határozzuk meg mely $p$ értékek esetén lesz a Richardson-iteráció konvergens! Ezen értékek közül melyik az optimális? \n"
   ]
  },
  {
   "cell_type": "code",
   "execution_count": 2,
   "metadata": {},
   "outputs": [
    {
     "name": "stdout",
     "output_type": "stream",
     "text": [
      "A feladat megoldasanak kozelitese p parameteru Richardson iteracioval tortent.\n",
      "\n",
      "M =\n",
      "\n",
      "    0.3333    0.3333\n",
      "    0.3333    0.3333\n",
      "\n",
      "\n",
      "normaM =\n",
      "\n",
      "    0.6667\n",
      "\n",
      "\n",
      "rho =\n",
      "\n",
      "    0.6667\n",
      "\n",
      "\n",
      "p_max =\n",
      "\n",
      "    0.6667\n",
      "\n",
      "\n",
      "p_opt =\n",
      "\n",
      "    0.5000\n",
      "\n",
      "\n",
      "x_k =\n",
      "\n",
      "    0.9827\n",
      "    0.9827\n",
      "\n",
      "\n",
      "x_p =\n",
      "\n",
      "    1.0000\n",
      "    1.0000\n"
     ]
    }
   ],
   "source": [
    "[M,normaM,rho,p_max,p_opt,x_k,x_p]=pRichardson([2 -1; -1 2],[1 1]',[0 0]',10,1/3)"
   ]
  },
  {
   "cell_type": "code",
   "execution_count": null,
   "metadata": {
    "collapsed": true
   },
   "outputs": [],
   "source": []
  }
 ],
 "metadata": {
  "kernelspec": {
   "display_name": "Octave",
   "language": "octave",
   "name": "octave"
  },
  "language_info": {
   "file_extension": ".m",
   "help_links": [
    {
     "text": "GNU Octave",
     "url": "https://www.gnu.org/software/octave/support.html"
    },
    {
     "text": "Octave Kernel",
     "url": "https://github.com/Calysto/octave_kernel"
    },
    {
     "text": "MetaKernel Magics",
     "url": "https://github.com/calysto/metakernel/blob/master/metakernel/magics/README.md"
    }
   ],
   "mimetype": "text/x-octave",
   "name": "octave",
   "version": "4.2.2"
  }
 },
 "nbformat": 4,
 "nbformat_minor": 1
}
