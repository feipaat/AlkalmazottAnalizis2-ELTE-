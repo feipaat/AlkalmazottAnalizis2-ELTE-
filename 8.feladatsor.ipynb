{
 "cells": [
  {
   "cell_type": "markdown",
   "metadata": {},
   "source": [
    "# <center>Alkalmazott Analízis II.</center>\n",
    "## <center>8. Feladatsor</center>\n",
    "\n",
    "<img src=\"karacsonyreggel.gif\" width=\"700\">\n",
    "\n",
    "<br>\n",
    "## Lineáris peremérték feladatok\n",
    "\n",
    "### Megoldhatósági tételek és numerikus approximálás\n",
    "\n",
    "1.feladat. Vizsgáljuk meg megoldhatóság szempontjából az\n",
    "\n",
    "\\begin{cases}\n",
    " u''(t)= -u(t),\\ \\ \\ t\\in(a,b)&\\\\\n",
    "u(a)=\\alpha,\\ u(b)=\\beta &\n",
    "\\end{cases}\n",
    "\n",
    "peremérték-feladatot.\n",
    "\n",
    "(a) $a=0,\\ b=\\Pi/2,\\ \\alpha=3,\\ \\beta=7$<br>\n",
    "(b) $a=0,\\ b=\\Pi,\\ \\alpha=3,\\ \\beta=7$\n",
    "\n",
    "2.feladat. Van-e az alábbi feladatoknak egyértelmû megoldása?\n",
    "\n",
    "(a)\n",
    "\\begin{cases}\n",
    "u''(t)= \\sin(t)+u(t),\\ \\ \\ t\\in(1,4)&\\\\\n",
    "u(1)=3,\\ u(4)=7&\n",
    "\\end{cases}\n",
    "\n",
    "(b)\n",
    "\\begin{cases}\n",
    "u''(t)= \\sin(t)u'(t)+2u(t)+e^t,\\ \\ \\ t\\in(1,2)&\\\\\n",
    "u(1)=3,\\ u(2)=4&\n",
    "\\end{cases}\n",
    "\n",
    "3.feladat. Írjuk fel a peremérték-feladatokat elsõrendû rendszer alakjában.\n",
    "\n",
    "(a)\n",
    "\\begin{cases}\n",
    "u''(t)= u(t),\\ \\ \\ t\\in(a,b)&\\\\\n",
    "u(a)=\\alpha,\\ u(b)=\\beta&\n",
    "\\end{cases}\n",
    "\n",
    "(b)\n",
    "\\begin{cases}\n",
    "u'''(t)=-2\\lambda^3u(t)+\\lambda^2u'(t)+2\\lambda u''(t),\\ \\ \\ t\\in(0,1)&\\\\\n",
    "u(0)=\\beta_1,\\ u(1)=\\beta_2,\\ u'(1)=\\beta_3&\n",
    "\\end{cases}\n",
    "\n",
    "4.feladat. Rendszerekre vonatkozó ismereteink birtokában vizsgáljuk meg az\n",
    "\n",
    "\\begin{cases}\n",
    "u''(t)= -u(t),\\ \\ \\ t\\in(0,b)&\\\\\n",
    "u(0)=\\alpha,\\ u(b)=\\beta &\n",
    "\\end{cases}\n",
    "\n",
    "feladat megoldhatóságát.\n",
    "\n",
    "5.feladat. Tekintsük a\n",
    "\n",
    "\\begin{cases}\n",
    "-u''(x)= f(x),\\ \\ \\ x\\in(0,l)&\\\\\n",
    "u(0)=\\mu_1,\\ u(l)=\\mu_2 &\n",
    "\\end{cases}\n",
    "\n",
    "kétpontos peremérték problémát. A második deriváltat másodrendû véges differenciával helyettesítve diszkretizáljuk a feladatot, majd írjuk fel a kapott lineáris egyenletrendszert.\n",
    "<br>\n"
   ]
  },
  {
   "cell_type": "code",
   "execution_count": 1,
   "metadata": {},
   "outputs": [
    {
     "data": {
      "image/png": "[encoded data removed]",
      "text/plain": [
       "<IPython.core.display.Image object>"
      ]
     },
     "metadata": {},
     "output_type": "display_data"
    }
   ],
   "source": [
    "t=1:0.001:4;\n",
    "plot(t,cos(t))"
   ]
  },
  {
   "cell_type": "code",
   "execution_count": 2,
   "metadata": {},
   "outputs": [
    {
     "name": "stdout",
     "output_type": "stream",
     "text": [
      "y_h =\n",
      "\n",
      "   0.00000\n",
      "   0.24117\n",
      "   0.47483\n",
      "   0.69346\n",
      "   0.88956\n",
      "   1.05560\n",
      "   1.18407\n",
      "   1.26747\n",
      "   1.29827\n",
      "   1.26897\n",
      "   1.17205\n",
      "   1.00000\n",
      "\n",
      "fA_h =\n",
      "\n",
      "  -242   121     0     0     0     0     0     0     0     0\n",
      "   121  -242   121     0     0     0     0     0     0     0\n",
      "     0   121  -242   121     0     0     0     0     0     0\n",
      "     0     0   121  -242   121     0     0     0     0     0\n",
      "     0     0     0   121  -242   121     0     0     0     0\n",
      "     0     0     0     0   121  -242   121     0     0     0\n",
      "     0     0     0     0     0   121  -242   121     0     0\n",
      "     0     0     0     0     0     0   121  -242   121     0\n",
      "     0     0     0     0     0     0     0   121  -242   121\n",
      "     0     0     0     0     0     0     0     0   121  -242\n",
      "\n"
     ]
    },
    {
     "data": {
      "image/png": "[encoded data removed]",
      "text/plain": [
       "<IPython.core.display.Image object>"
      ]
     },
     "metadata": {},
     "output_type": "display_data"
    }
   ],
   "source": [
    "% Lásd kpep m.fajl\n",
    "[y_h,fA_h]=kpep(0,0,1,0,1,11)"
   ]
  },
  {
   "cell_type": "code",
   "execution_count": null,
   "metadata": {
    "collapsed": true
   },
   "outputs": [],
   "source": []
  },
  {
   "cell_type": "code",
   "execution_count": null,
   "metadata": {
    "collapsed": true
   },
   "outputs": [],
   "source": []
  }
 ],
 "metadata": {
  "kernelspec": {
   "display_name": "Octave",
   "language": "octave",
   "name": "octave"
  },
  "language_info": {
   "file_extension": ".m",
   "help_links": [
    {
     "text": "GNU Octave",
     "url": "https://www.gnu.org/software/octave/support.html"
    },
    {
     "text": "Octave Kernel",
     "url": "https://github.com/Calysto/octave_kernel"
    },
    {
     "text": "MetaKernel Magics",
     "url": "https://github.com/calysto/metakernel/blob/master/metakernel/magics/README.md"
    }
   ],
   "mimetype": "text/x-octave",
   "name": "octave",
   "version": "4.2.2"
  }
 },
 "nbformat": 4,
 "nbformat_minor": 2
}
