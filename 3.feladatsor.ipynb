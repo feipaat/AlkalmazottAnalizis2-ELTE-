{
 "cells": [
  {
   "cell_type": "markdown",
   "metadata": {},
   "source": [
    "# <center>Alkalmazott Analízis II.</center>\n",
    "## <center>3. Feladatsor</center>\n",
    "\n",
    "<img src=\"betterstudents.gif\" width=\"700\">\n",
    "\n",
    "<br>\n",
    "### Sajátértékek keresése\n",
    "1.feladat. Legyen\n",
    "$$A=\\left(\n",
    "  \\begin{array}{ccc}\n",
    " -4 & -2 & 0\\\\\n",
    " 1 & 6 & 2 \\\\\n",
    " 0 & -1 & 3\\end{array} \\right).\n",
    "$$\n",
    "Rajzoljuk fel a mátrix Gersgorin-köreit! Invertálható-e az $A$ mátrix?\n",
    "\n",
    "2.feladat. Legyen\n",
    "$$A=\\left(\n",
    "  \\begin{array}{ccc}\n",
    " -1 & 1 & i\\\\\n",
    " 2 & 4+2i & 1 \\\\\n",
    " 1 & 0 & 2-4i\\end{array} \\right).\n",
    "$$\n",
    "Rajzoljuk fel a mátrix Gersgorin-köreit!\n"
   ]
  },
  {
   "cell_type": "code",
   "execution_count": 2,
   "metadata": {},
   "outputs": [
    {
     "name": "stdout",
     "output_type": "stream",
     "text": [
      "A korok kozeppontjai es sugarai: [-1.000000 0.000000 2.000000]\n",
      "A korok kozeppontjai es sugarai: [4.000000 2.000000 3.000000]\n",
      "A korok kozeppontjai es sugarai: [2.000000 -4.000000 1.000000]\n",
      "Sajatertekek =\n",
      "\n",
      "  -1.1542 + 0.0272i\n",
      "   4.3452 + 1.8526i\n",
      "   1.8089 - 3.8798i\n",
      "\n"
     ]
    },
    {
     "data": {
      "image/png": "[encoded data removed]",
      "text/plain": [
       "<IPython.core.display.Image object>"
      ]
     },
     "metadata": {},
     "output_type": "display_data"
    }
   ],
   "source": [
    "A=[-4 -2 0; 1 6 2; 0 -1 3];\n",
    "B=[-1 1 i; 2 4+2*i 1; 1 0 2-4*i];\n",
    "gersgorinkor(B)"
   ]
  },
  {
   "cell_type": "markdown",
   "metadata": {},
   "source": [
    "<br>\n",
    "\n",
    "3.feladat. Legyen\n",
    "$$A=\\left(\n",
    "  \\begin{array}{ccc}\n",
    " 1 & 2 & 1/2\\\\\n",
    " 0 & 2 & 1 \\\\\n",
    " 0 & 1 & 5\\end{array} \\right),\n",
    "$$\n",
    "amelynek csupa valós sajátértéke van.\n",
    "\n",
    "(a) Hány sajátérték van a $[-1.5,3.5]$ intervallumban?<br>\n",
    "(b) Hajtsunk végre egy $D$ diagonális mátrixszal olyan hasonlósági transzformációt, hogy a Gersgorin-körök alapján a $B=D^{-1}AD$ mátrix összes sajátértéke a jobb félsíkon van.<br>\n",
    "(c) Invertálható-e az $A$ mátrix?\n",
    "\n"
   ]
  },
  {
   "cell_type": "code",
   "execution_count": null,
   "metadata": {
    "collapsed": true
   },
   "outputs": [],
   "source": []
  },
  {
   "cell_type": "markdown",
   "metadata": {},
   "source": [
    "\n",
    "### Rayleigh-hányados és hatványmódszer\n",
    "\n",
    "<br>\n",
    "4.feladat. Legyen\n",
    "$$A=\\left(\n",
    "  \\begin{array}{ccc}\n",
    " 1 & 3 & 2\\\\\n",
    " 3 & 5 & 1 \\\\\n",
    " 2 & 1 & 4\\end{array} \\right).\n",
    "$$\n",
    "A Rayleigh-hányados segítségével mutassuk meg, hogy a legnagyobb sajátérték nagyobb, mint $7$!\n",
    "<br>\n"
   ]
  },
  {
   "cell_type": "code",
   "execution_count": 9,
   "metadata": {},
   "outputs": [
    {
     "name": "stdout",
     "output_type": "stream",
     "text": [
      "ans =\n",
      "\n",
      "    7.5896\n"
     ]
    }
   ],
   "source": [
    "se=eig([1 3 2; 3 5 1; 2 1 4]);\n",
    "max(se)"
   ]
  },
  {
   "cell_type": "markdown",
   "metadata": {},
   "source": [
    "5.feladat. Legyen\n",
    "$$A=\\left(\n",
    "  \\begin{array}{ccc}\n",
    " 4 & 1 & 0\\\\\n",
    " 0 & 2 & 1 \\\\\n",
    " 0 & 1 & 1\\end{array} \\right).\n",
    "$$\n",
    "\n",
    "(a) Az $x^{(0)}=(1,1,1)^T$ vektorból kiindulva határozzuk meg $A$ domináns sajátértékét (tegyünk meg $5$ lépést és sejtsük meg a sajátértéket)!<br>\n",
    "(b) Direkt módszerrel határozzuk meg a másik kettõt!<br>\n"
   ]
  },
  {
   "cell_type": "code",
   "execution_count": 3,
   "metadata": {},
   "outputs": [
    {
     "name": "stdout",
     "output_type": "stream",
     "text": [
      "\n",
      "11 iteracio utan: \n",
      "\n",
      "A komponensenkenti hanyados: 4.009448\n",
      "A Rayleigh-fele hanyados: 4.009276\n",
      "A legnagyobb sajatertek: 4.000000\n",
      "A hozzatartozo sajatvektor: [1.000000 0.000000 0.000000]' \n",
      "A kozelito sajatvektor: [0.999974 0.006169 0.003813]' \n",
      "A matrix sajatertekei: [4.000000 2.618034 0.381966]' \n",
      "\n"
     ]
    }
   ],
   "source": [
    "hatvanymodszer([4 1 0; 0 2 1; 0 1 1], [1 1 1]', 11)"
   ]
  },
  {
   "cell_type": "code",
   "execution_count": null,
   "metadata": {
    "collapsed": true
   },
   "outputs": [],
   "source": []
  }
 ],
 "metadata": {
  "kernelspec": {
   "display_name": "Octave",
   "language": "octave",
   "name": "octave"
  },
  "language_info": {
   "file_extension": ".m",
   "help_links": [
    {
     "text": "GNU Octave",
     "url": "https://www.gnu.org/software/octave/support.html"
    },
    {
     "text": "Octave Kernel",
     "url": "https://github.com/Calysto/octave_kernel"
    },
    {
     "text": "MetaKernel Magics",
     "url": "https://github.com/calysto/metakernel/blob/master/metakernel/magics/README.md"
    }
   ],
   "mimetype": "text/x-octave",
   "name": "octave",
   "version": "4.2.2"
  }
 },
 "nbformat": 4,
 "nbformat_minor": 1
}
