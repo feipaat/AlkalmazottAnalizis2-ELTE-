{
 "cells": [
  {
   "cell_type": "markdown",
   "metadata": {},
   "source": [
    "# <center>Alkalmazott Analízis II.</center>\n",
    "## <center>7. Feladatsor</center>\n",
    "\n",
    "<img src=\"coding.gif\" width=\"700\">\n",
    "\n",
    "<br>\n",
    "## Lineáris többlépéses módszerek\n",
    "\n",
    "### Konzisztencia\n",
    "\n",
    "1.feladat. Taylor-sorfejtés útján határozzuk meg az $y_n-\\frac{4}{3}y_{n-1}+\\frac{1}{3}y_{n-2}=\\frac{2}{3}hf_n$ kétlépéses módszer konzisztencia rendjét!\n",
    "\n",
    "2.feladat. Mennyi a konzisztencia rendje az alábbi kétlépéses módszereknek?\n",
    "\n",
    "(a) $y_n-\\frac{4}{3}y_{n-1}+\\frac{1}{3}y_{n-2}=\\frac{2}{3}hf_n$<br>\n",
    "(b) $y_n-y_{n-1}=h\\Big(\\frac{3}{2}f_{n-1}-\\frac{1}{2}f_{n-2}\\Big)$<br>\n",
    "(c) $y_n-y_{n-2}=2hf_{n-1}$\n",
    "\n",
    "3.feladat. Határozzuk meg az $y_n+a_1y_{n-1}+a_2y_{n-2}=h(b_1f_{n-1}+b_2f_{n-2})$ explicit kétlépéses módszer együtthatóit úgy, hogy a konzisztencia rendje minél magasabb legyen.\n",
    "<br>\n"
   ]
  },
  {
   "cell_type": "code",
   "execution_count": 1,
   "metadata": {},
   "outputs": [
    {
     "name": "stdout",
     "output_type": "stream",
     "text": [
      "ans =\n",
      "\n",
      "    4.0000\n",
      "   -5.0000\n",
      "    4.0000\n",
      "    2.0000\n"
     ]
    }
   ],
   "source": [
    "A=[1 1 0 0; 1 2 1 1; 1 4 2 4; 1 8 3 12];\n",
    "b=[-1 0 0 0]';\n",
    "A\\b"
   ]
  },
  {
   "cell_type": "markdown",
   "metadata": {},
   "source": [
    "4.feladat. Oldjuk meg az $y_n-4y_{n-1}+3y_{n-2}=-2hf_{n-2}$ módszerrel az\n",
    "\n",
    "\\begin{cases}\n",
    "\\dot y(t)= -y(t),\\ \\ \\ t\\in[0,1]&\\\\\n",
    "y(0)=1 &\n",
    "\\end{cases}\n",
    "\n",
    "egyenletet $h=1/10$ választással. Nézzük meg minden egyes lépés után, hogy a hiba hogyan változik. Konvergens-e a módszer?"
   ]
  },
  {
   "cell_type": "code",
   "execution_count": 12,
   "metadata": {},
   "outputs": [
    {
     "name": "stdout",
     "output_type": "stream",
     "text": [
      "ans =\n",
      "\n",
      "  Columns 1 through 7\n",
      "\n",
      "         0         0    0.0006    0.0030    0.0109    0.0356    0.1123\n",
      "\n",
      "  Columns 8 through 11\n",
      "\n",
      "    0.3500    1.0858    3.3636   10.4143\n"
     ]
    }
   ],
   "source": [
    "t=linspace(0,1,11);h=1/10;\n",
    "y(1)=1; y(2)=exp(-h);\n",
    "for i=3:11\n",
    "    y(i)=4*y(i-1)-(3-2*h)*y(i-2);\n",
    "end\n",
    "y;\n",
    "exp(-t);\n",
    "abs(y-exp(-t))"
   ]
  },
  {
   "cell_type": "markdown",
   "metadata": {},
   "source": [
    "### Erős stabilitás\n",
    "\n",
    "5.feladat. Az alábbi módszerek közül melyek lesznek erõsen stabilak?\n",
    "\n",
    "(a) $y_n+4y_{n-1}-5y_{n-2}=h(4f_{n-1}+2f_{n-2})$<br>\n",
    "(b) $y_n-y_{n-2}=\\frac{h}{2}(f_n+4f_{n-1}+f_{n-2})$<br>\n",
    "(c) $y_n-\\frac{4}{3}y_{n-1}+\\frac{1}{3}y_{n-2}=\\frac{2}{3}hf_n$\n",
    "\n",
    "6.feladat. Mutassuk meg, hogy az Adams módszerek erõsen stabilak!\n"
   ]
  },
  {
   "cell_type": "code",
   "execution_count": 14,
   "metadata": {},
   "outputs": [
    {
     "name": "stdout",
     "output_type": "stream",
     "text": [
      "r1 =\n",
      "\n",
      "    -5\n",
      "     1\n",
      "\n",
      "\n",
      "r2 =\n",
      "\n",
      "    -1\n",
      "     1\n",
      "\n",
      "\n",
      "r3 =\n",
      "\n",
      "    1.0000\n",
      "    0.3333\n"
     ]
    }
   ],
   "source": [
    "%5.feladat\n",
    "%(a)\n",
    "p1 = [1 4 -5];\n",
    "r1 = roots(p1)\n",
    "%(b)\n",
    "p2 = [1 0 -1];\n",
    "r2 = roots(p2)\n",
    "%(c)\n",
    "p3 = [1 -4/3 1/3];\n",
    "r3 = roots(p3)"
   ]
  },
  {
   "cell_type": "code",
   "execution_count": null,
   "metadata": {
    "collapsed": true
   },
   "outputs": [],
   "source": []
  }
 ],
 "metadata": {
  "kernelspec": {
   "display_name": "Octave",
   "language": "octave",
   "name": "octave"
  },
  "language_info": {
   "file_extension": ".m",
   "help_links": [
    {
     "text": "GNU Octave",
     "url": "https://www.gnu.org/software/octave/support.html"
    },
    {
     "text": "Octave Kernel",
     "url": "https://github.com/Calysto/octave_kernel"
    },
    {
     "text": "MetaKernel Magics",
     "url": "https://github.com/calysto/metakernel/blob/master/metakernel/magics/README.md"
    }
   ],
   "mimetype": "text/x-octave",
   "name": "octave",
   "version": "4.2.2"
  }
 },
 "nbformat": 4,
 "nbformat_minor": 2
}
