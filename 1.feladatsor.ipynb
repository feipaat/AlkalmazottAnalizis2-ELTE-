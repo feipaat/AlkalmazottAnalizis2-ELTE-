{
 "cells": [
  {
   "cell_type": "markdown",
   "metadata": {},
   "source": [
    "# <center>Alkalmazott Analízis II.</center>\n",
    "\n",
    "## <center>Fekete Imre</center>\n",
    "### <center>Alkalmazott Analízis és Számításmatematikai Tanszék</center>\n",
    "<img src=\"cimer2.jpg\" width=\"400\">\n",
    "<br>\n",
    "<br>\n",
    "<br>\n",
    "<br>\n",
    "\n",
    "### Általános információk:\n",
    "+ <span class=\"fa fa-building-o\"></span> Déli Tömb 3.702</li>\n",
    "+ Honlap: <a href=\"http://imrefekete.web.elte.hu/\" target=\"_blank\"> http://imrefekete.web.elte.hu/</a>\n",
    "+ Fogadóórák:  később lesz hivatalos (megbeszélés alapján) \n",
    "+ Piazza: Kurzushoz kapcsolódó minden anyag és csoportos levelezés: <a href=\"piazza.com/elte.hu/fall2019/na3\">regisztrációs link</a>\n",
    "<br><br>\n",
    "\n",
    "### Számonkérés:\n",
    "+ 1 db zárthelyi\n",
    "+ Csoportos projekt (3 fő) \n",
    "    + Irodalmi feldolgozás és programozási megvalósítás\n",
    "    + TeX-ben részletes report írása \n",
    "    + Prezentáció (egyik gyakorlaton, mely kb. 10 perc)\n",
    "+ Beadható feladatokkal lehet bónuszpontokat szerezni\n",
    "<br><br>\n",
    "\n",
    "### Segédanyagok:\n",
    "+ Előadás jegyzete\n",
    "+ <a href=\"http://tankonyvtar.ttk.bme.hu/authorlistp.jsp?bookId=30\">Faragó István, Horváth Róbert: Numerikus módszerek </a>\n",
    "+ <a href=\"http://tankonyvtar.ttk.bme.hu/authorlistp.jsp?bookId=117\"> Faragó István, Fekete Imre, Horváth Róbert: Numerikus módszerek példatár </a>\n",
    "<br><br>\n",
    "\n",
    "### 3 kívánság:\n",
    "\n",
    "<br>\n",
    "<br>\n",
    "\n",
    "\n",
    "<div style=\"width:870 px\"></div>\n",
    "<div style=\"float:left\"><img src=\"questions.jpg\" width=\"450\" title=\"Nyugodtan kérdezzünk!\"/></div>\n",
    "<div style=\"float:left\"><img src=\"practice.jpg\" width=\"400\" title=\"Sokat gyakoroljunk/dolgozzunk otthon!\"/></div>\n",
    "<div style=\"float:left\"><img src=\"positive.jpg\" width=\"870\" title=\"A jó hangulat sokat segít!\"/></div> \n",
    "<div style=\"clear:both\"></div> \n",
    "<br><br>\n"
   ]
  },
  {
   "cell_type": "markdown",
   "metadata": {},
   "source": [
    "### Miről lesz szó a félév során?\n",
    "<br>\n",
    "<br>\n",
    "\n",
    "\n",
    "<div style=\"width:600 px\">\n",
    "<div style=\"float:left\"><img src=\"iterativesolvers.png\" width=\"450\" title=\"Jacobi, GS és SOR iterációs módszerek konvergenciája\"/></div>\n",
    "<div style=\"float:left\"><img src=\"rkstab.png\" width=\"270\" title=\"RK stabilitási tartományok\"/></div>\n",
    "<div style=\"float:left\"><img src=\"2dlaplace.png\" width=\"400\" title=\"2D-s Laplace diszkretizációja\"/></div> \n",
    "<div style=\"clear:both\"></div>\n",
    "</div>   \n"
   ]
  },
  {
   "cell_type": "markdown",
   "metadata": {},
   "source": [
    "<br>\n",
    "<br>\n",
    "## <center>1. Feladatsor</center>\n",
    "\n",
    "\n",
    "### LAER direkt megoldási módszerei\n",
    "#### Gauss-elimináció\n",
    "\n",
    "1.feladat. Oldjuk meg az alábbi egyenletrendszereket!\n",
    "\n",
    "\\begin{alignat*}{11}\n",
    "  \\ \\ \\ \\ \\ 3x_1 &+{} & x_2 &+{} & 6x_3 &={} & 2 &\\quad\\ \\ \\ \\ \\  \\ \\ \\ \\  &-4x_1 &+{} &  x_2 &-{} &  x_3 &={} &  -9 \\\\\n",
    "  \\ (a) \\ \\ \\ 2x_1 &+{} & x_2 &+{} & 3x_3 &={} & 3 &\\quad\\ \\ \\ \\ \\ \\ (b)\\ \\  & -x_1 &+{} & 4x_2 &-{} &  x_3 &={} & -12\\\\\n",
    "  \\ \\ \\ \\ \\ x_1 &+{}&  x_2 &+{} &  x_3 &={} & -1 &\\quad\\ \\ \\ \\ \\ \\ \\ \\ \\  & x_1 &+{} &  x_2 &+{} & 4x_3 &={} &  11\n",
    "\\end{alignat*}\n",
    "\n",
    "2.feladat. Oldjuk meg Gauss-eliminációval a következõ rendszereket!\n",
    "<br>\n",
    "<br>\n",
    "$(a)\\left(\n",
    "  \\begin{array}{ccc}\n",
    " 2 & 1 & 1\\\\\n",
    " 4 & 1 & 0 \\\\\n",
    " -2 & 2 & 1\\end{array} \\right)\n",
    "\\left(\n",
    "  \\begin{array}{c}\n",
    " x_1\\\\\n",
    " x_2\\\\\n",
    " x_3\\end{array} \\right)\n",
    "$=$\\left(\n",
    "  \\begin{array}{c}\n",
    " 1\\\\\n",
    " -2\\\\\n",
    " 7\\end{array} \\right)\n",
    "$\n",
    "&nbsp;&nbsp;&nbsp;\n",
    "$(b)\\left(\n",
    "  \\begin{array}{ccc}\n",
    " 2 & 4 & 1\\\\\n",
    " 2 & 6 & -1 \\\\\n",
    " 1 & 5 & 2\\end{array} \\right)\n",
    "\\left(\n",
    "  \\begin{array}{c}\n",
    " x_1\\\\\n",
    " x_2\\\\\n",
    " x_3\\end{array} \\right)\n",
    "$=$\\left(\n",
    "  \\begin{array}{c}\n",
    " 4\\\\\n",
    " 10\\\\\n",
    " 2\\end{array} \\right)\n",
    "$\n",
    "\n",
    "\n",
    "\n",
    "3.feladat. Végrehajtható-e a Gauss-algoritmus a tanult tételek alapján? (Válaszunkat indokuljuk!)\n",
    "<br>\n",
    "<br>\n",
    "\n",
    "$(a)\\left(\n",
    "  \\begin{array}{ccc}\n",
    " 1 & 2 & 5\\\\\n",
    " 2 & 1 & 3 \\\\\n",
    " 5 & 3 & 4\\end{array} \\right)\n",
    "$&nbsp;&nbsp;&nbsp;\n",
    "$(b)\\left(\n",
    "  \\begin{array}{ccc}\n",
    " 8 & -1 & -2\\\\\n",
    " 0 & 1 & 0 \\\\\n",
    " 0 & -3 & 10\\end{array} \\right)\n",
    "$&nbsp;&nbsp;&nbsp;\n",
    "$(c)\\left(\n",
    "  \\begin{array}{ccc}\n",
    " -2 & 3 & 4\\\\\n",
    " -4 & 6 & 1 \\\\\n",
    " -8 & -2 & 3\\end{array} \\right)\n",
    "$\n",
    "<br>\n",
    "<br>"
   ]
  },
  {
   "cell_type": "code",
   "execution_count": 2,
   "metadata": {
    "collapsed": true
   },
   "outputs": [],
   "source": [
    "% 1.feladat \n",
    "A_1=[3 1 6; 2 1 3; 1 1 1]; b_1=[2 3 -1]'; x1=A_1\\b_1;\n",
    "A_2=[-4 1 -1; -1 4 -1; 1 1 4]; b_2=[-9 -12 11]'; x2=A_2\\b_2;"
   ]
  },
  {
   "cell_type": "code",
   "execution_count": 3,
   "metadata": {},
   "outputs": [
    {
     "name": "stdout",
     "output_type": "stream",
     "text": [
      "ans =\n",
      "\n",
      "  -2.73406\n",
      "  -0.55146\n",
      "   9.28552\n",
      "\n",
      "ans =  14.000\n"
     ]
    }
   ],
   "source": [
    "A=[1 2 5; 2 1 3; 5 3 4]; %all(eig(A) > eps)\n",
    "eig(A)\n",
    "det(A)"
   ]
  },
  {
   "cell_type": "code",
   "execution_count": 9,
   "metadata": {},
   "outputs": [
    {
     "name": "stdout",
     "output_type": "stream",
     "text": [
      "ans =  8\n",
      "ans =  80\n"
     ]
    }
   ],
   "source": [
    "A=[8 -1 -2; 0 1 0; 0 -3 10];\n",
    "det(A(1:2,1:2))\n",
    "det(A)"
   ]
  },
  {
   "cell_type": "code",
   "execution_count": 7,
   "metadata": {},
   "outputs": [
    {
     "name": "stdout",
     "output_type": "stream",
     "text": [
      "ans =\n",
      "\n",
      "   0.85042 + 6.02194i\n",
      "   0.85042 - 6.02194i\n",
      "   5.29916 + 0.00000i\n",
      "\n",
      "ans = 0\n",
      "ans =  196\n"
     ]
    }
   ],
   "source": [
    "A=[-2 3 4; -4 6 1; -8 -2 3];\n",
    "eig(A)\n",
    "det(A(1:2,1:2))\n",
    "det(A)"
   ]
  },
  {
   "cell_type": "markdown",
   "metadata": {},
   "source": [
    "<br>\n",
    "4.feladat. Adjunk elégséges feltételt arra, hogy egy szigorúan diagonálisan domináns mátrix M-mátrix legyen!\n",
    "<br><br>\n",
    "\n",
    "#### LU-felbontás\n",
    "\n",
    "5.feladat. Írjuk fel az 1. és 2. feladatokban szereplõ egyenletrendszerek mátrixainak $LU$-felbontását és számoljuk ki a determinánsait! Oldjuk meg a feladatokat az $LU$-felbontás segítségével.\n",
    "\n",
    "6.feladat. Van-e $LU$-felbontása az alábbi mátrixoknak?\n",
    "\n",
    "$(a) \\left(\n",
    "  \\begin{array}{cc}\n",
    " 1 & 2\\\\\n",
    " 1 & 2\\end{array} \\right)\n",
    "$\n",
    "&nbsp;&nbsp;&nbsp;\n",
    "$(b) \\left(\n",
    "  \\begin{array}{cc}\n",
    " 0 & 1\\\\\n",
    " 1 & 0\\end{array} \\right)\n",
    "$\n",
    "&nbsp;&nbsp;&nbsp;\n",
    "$(c) \\left(\n",
    "  \\begin{array}{cc}\n",
    " 0 & 1\\\\\n",
    " 0 & 2\\end{array} \\right)\n",
    "$\n",
    "\n",
    "<br>\n",
    "<br>"
   ]
  },
  {
   "cell_type": "code",
   "execution_count": 1,
   "metadata": {},
   "outputs": [
    {
     "name": "stdout",
     "output_type": "stream",
     "text": [
      "L =\n",
      "\n",
      "   1.00000   0.00000   0.00000\n",
      "   0.66667   1.00000   0.00000\n",
      "   0.33333   2.00000   1.00000\n",
      "\n",
      "U =\n",
      "\n",
      "   3.00000   1.00000   6.00000\n",
      "   0.00000   0.33333  -1.00000\n",
      "   0.00000   0.00000   1.00000\n",
      "\n",
      "ans =\n",
      "\n",
      "          1          0          0\n",
      "        2/3          1          0\n",
      "        1/3          2          1\n",
      "\n",
      "ans =\n",
      "\n",
      "   3   1   6\n",
      "   2   1   3\n",
      "   1   1   1\n",
      "\n"
     ]
    }
   ],
   "source": [
    "A=[2 1 1; 4 1 0; -2 2 1];\n",
    "[L,U,P] = lu(A);\n",
    "L=[1 0 0; 2/3 1 0; 1/3 2 1]\n",
    "U=[3 1 6; 0 1/3 -1; 0 0 1]\n",
    "rats(L)\n",
    "L*U"
   ]
  },
  {
   "cell_type": "markdown",
   "metadata": {},
   "source": [
    "7.feladat. Az alábbi szimmetrikus mátrixok közül melyek pozitív definitek?\n",
    "\n",
    "$(a) \\left(\n",
    "  \\begin{array}{ccc}\n",
    " 1 & 1 & 1\\\\\n",
    " 1 & 3 & -1 \\\\\n",
    " 1 & -1 & 5\\end{array} \\right)\n",
    "$\n",
    "&nbsp;&nbsp;&nbsp;\n",
    "$(b) \\left(\n",
    "  \\begin{array}{ccc}\n",
    " 1 & 1 & 1\\\\\n",
    " 1 & 3 & -1 \\\\\n",
    " 1 & -1 & -2\\end{array} \\right)\n",
    "$\n",
    "&nbsp;&nbsp;&nbsp;\n",
    "$(c)\\left(\n",
    "  \\begin{array}{ccc}\n",
    " 2 & -1 & 0\\\\\n",
    " -1 & 2 & -1 \\\\\n",
    " 0 & -1 & 2\\end{array} \\right)\n",
    "$\n",
    "\n",
    "8.feladat. Bizonyítsuk be, hogy pozitív definit mátrix főátlójában pozitív elemek állnak!<br>\n",
    "\n",
    "9.feladat. Bizonyítsuk be, hogy ha $A\\in\\mathbb{R}^{n\\times n}$ szimmetrikus, pozitív definit mátrix, akkor a sajátértékei (valósak és) pozitívak! Mutassuk meg, hogy az ilyen mátrixoknak van inverze!<br>\n",
    "\n",
    "10.feladat. Igazoljuk, hogy $L^{-1}_i(v_i)=L_i(-v_i)$!"
   ]
  },
  {
   "cell_type": "code",
   "execution_count": 87,
   "metadata": {},
   "outputs": [
    {
     "name": "stdout",
     "output_type": "stream",
     "text": [
      "ans =\n",
      "\n",
      "     1\n"
     ]
    }
   ],
   "source": [
    "A=[1 2 3; 4 5 6; 7 8 9];\n",
    "for i=1:length(A)\n",
    "    v(i)=det(A(1:i,1:i)); % bal felső sarokdetermináns\n",
    "end\n",
    "any(v>0) % pozitívak-e ezek 1:igen; 0:nem"
   ]
  },
  {
   "cell_type": "markdown",
   "metadata": {},
   "source": [
    "#### PLU- és Cholesky-felbontás\n",
    "<br>\n",
    "<br>\n",
    "\n",
    "11.feladat. Adjuk meg a \n",
    "<center>\n",
    "$\\left(\n",
    "  \\begin{array}{cccc}\n",
    " 0 & 0 & 1 & 1\\\\\n",
    " 2 & 2 & 2 & 2\\\\\n",
    " 1 & 2 & 1 & 2\\\\\n",
    " 2 & 4 & 1 & 1\\end{array} \\right)\n",
    "$\n",
    "</center>\n",
    "mátrix $PLU$-felbontását!\n",
    "\n"
   ]
  },
  {
   "cell_type": "code",
   "execution_count": 1,
   "metadata": {},
   "outputs": [
    {
     "name": "stdout",
     "output_type": "stream",
     "text": [
      "A =\n",
      "\n",
      "   0   0   1   1\n",
      "   2   2   2   2\n",
      "   1   2   1   2\n",
      "   2   4   1   1\n",
      "\n",
      "L =\n",
      "\n",
      "   1.00000   0.00000   0.00000   0.00000\n",
      "   1.00000   1.00000   0.00000   0.00000\n",
      "   0.00000   0.00000   1.00000   0.00000\n",
      "   0.50000   0.50000   0.50000   1.00000\n",
      "\n",
      "U =\n",
      "\n",
      "   2   2   2   2\n",
      "   0   2  -1  -1\n",
      "   0   0   1   1\n",
      "   0   0   0   1\n",
      "\n",
      "P =\n",
      "\n",
      "Permutation Matrix\n",
      "\n",
      "   0   1   0   0\n",
      "   0   0   0   1\n",
      "   1   0   0   0\n",
      "   0   0   1   0\n",
      "\n"
     ]
    }
   ],
   "source": [
    "A=[0 0 1 1; 2 2 2 2; 1 2 1 2; 2 4 1 1]\n",
    "[L,U,P]=lu(A)"
   ]
  },
  {
   "cell_type": "markdown",
   "metadata": {},
   "source": [
    "12.feladat. Ellenőrizzük, hogy az alábbi mátrixok szimmetrikus pozitív definitek és számítsuk ki a Cholesky-felbontásukat az $LU$-felbontásainak segítségével!\n",
    "<br>\n",
    "<br>\n",
    "$(a) \\left(\n",
    "  \\begin{array}{ccc}\n",
    " 5 & 7 & 3\\\\\n",
    " 7 & 11 & 2\\\\\n",
    " 3 & 2 & 6\\end{array} \\right)\n",
    "$\n",
    "&nbsp;&nbsp;&nbsp;\n",
    "$(b) \\left(\n",
    "  \\begin{array}{cccc}\n",
    " 1 & 2 & 3 & 9\\\\\n",
    " 2 & 8 & 10 & 34\\\\\n",
    " 3 & 10 & 17 & 57\\\\\n",
    " 9 & 34 & 57 & 195\\end{array} \\right)\n",
    "$\n",
    "\n",
    "13.feladat. Ellenőrizzük, hogy az alábbi mátrixok szimmetrikus pozitív definitek és számítsuk ki a Cholesky-felbontásukat a gyökvonásos algoritmus segítségével!\n",
    "<br>\n",
    "<br>\n",
    "$(a) \\left(\n",
    "  \\begin{array}{ccc}\n",
    " 5 & 0 & -1\\\\\n",
    " 0 & 6 & 1\\\\\n",
    " -1 & 1 & 6\\end{array} \\right)\n",
    "$\n",
    "&nbsp;&nbsp;&nbsp;\n",
    "$(b) \\left(\n",
    "  \\begin{array}{ccc}\n",
    " 2 & -1 & 0\\\\\n",
    " -1 & 2 & -1\\\\\n",
    " 0 & -1 & 2\\end{array} \\right)\n",
    "$"
   ]
  },
  {
   "cell_type": "code",
   "execution_count": 2,
   "metadata": {},
   "outputs": [
    {
     "name": "stdout",
     "output_type": "stream",
     "text": [
      "A =\n",
      "\n",
      "    5    7    3\n",
      "    7   11    2\n",
      "    3    2    6\n",
      "\n",
      "ans =\n",
      "\n",
      "  2889/1292          0          0\n",
      "  6765/2161  5291/4830          0\n",
      "   1292/963   -966/481  1960/4801\n",
      "\n"
     ]
    }
   ],
   "source": [
    "A=[5 7 3; 7 11 2; 3 2 6]\n",
    "chol(A,'lower') %chol help chol(A,'lower'); chol(A,'upper')\n"
   ]
  },
  {
   "cell_type": "code",
   "execution_count": 12,
   "metadata": {},
   "outputs": [
    {
     "name": "stdout",
     "output_type": "stream",
     "text": [
      "ans =\n",
      "\n",
      "   0.081014\n",
      "   0.317493\n",
      "   0.690279\n",
      "   1.169170\n",
      "   1.715370\n",
      "   2.284630\n",
      "   2.830830\n",
      "   3.309721\n",
      "   3.682507\n",
      "   3.918986\n",
      "\n",
      "lambda1 =  0.081014\n",
      "lambdan =  3.9190\n",
      "opt =  0.50000\n"
     ]
    }
   ],
   "source": [
    "N=10;\n",
    "e=ones(N,1);\n",
    "A=spdiags([-e 2*e -e],[-1 0 1],N,N);\n",
    "eig(A)\n",
    "lambda1=min(eig(A))\n",
    "lambdan=max(eig(A))\n",
    "opt=2/(lambda1+lambdan)"
   ]
  },
  {
   "cell_type": "code",
   "execution_count": 4,
   "metadata": {},
   "outputs": [
    {
     "name": "stdout",
     "output_type": "stream",
     "text": [
      "ans =  2.2361\n"
     ]
    }
   ],
   "source": [
    " 2889/1292"
   ]
  },
  {
   "cell_type": "code",
   "execution_count": 5,
   "metadata": {},
   "outputs": [
    {
     "name": "stdout",
     "output_type": "stream",
     "text": [
      "ans =  2.2361\n"
     ]
    }
   ],
   "source": [
    "sqrt(5)"
   ]
  },
  {
   "cell_type": "code",
   "execution_count": null,
   "metadata": {
    "collapsed": true
   },
   "outputs": [],
   "source": []
  }
 ],
 "metadata": {
  "kernelspec": {
   "display_name": "Octave",
   "language": "octave",
   "name": "octave"
  },
  "language_info": {
   "file_extension": ".m",
   "help_links": [
    {
     "text": "GNU Octave",
     "url": "https://www.gnu.org/software/octave/support.html"
    },
    {
     "text": "Octave Kernel",
     "url": "https://github.com/Calysto/octave_kernel"
    },
    {
     "text": "MetaKernel Magics",
     "url": "https://github.com/calysto/metakernel/blob/master/metakernel/magics/README.md"
    }
   ],
   "mimetype": "text/x-octave",
   "name": "octave",
   "version": "4.2.2"
  }
 },
 "nbformat": 4,
 "nbformat_minor": 1
}
