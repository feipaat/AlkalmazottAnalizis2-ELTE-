{
 "cells": [
  {
   "cell_type": "markdown",
   "metadata": {},
   "source": [
    "# <center>Alkalmazott Analízis II.</center>\n",
    "## <center>4. Feladatsor</center>\n",
    "\n",
    "<img src=\"szakdoga.gif\" width=\"700\">\n",
    "\n",
    "<br>\n",
    "### Kezdetiérték-feladatok (Cauchy feladatok)\n",
    "\n",
    "1.feladat. Legyenek $g:\\mathbb{R}^2\\rightarrow\\mathbb{R}$ a lenti függvények. Van-e kapcsolat a folytonosság és második változójában való lipschitzesség között, ha\n",
    "\n",
    "(a) $g(x,y)=y^2$, <br>\n",
    "(b) $g(x,y)=D(x)y$?\n",
    "\n",
    "2.feladat. Tegyük fel, hogy $g:\\mathbb{R}^2\\rightarrow\\mathbb{R}$ függvény az értelmezési tartományának valamely nyílt $K_g$ részhalmazán a második változójában korlátos deriválttal rendelkezik. Biztosítható-e a lipschitzessége?\n",
    "<br>\n",
    "\n",
    "### Klasszikus egylépéses módszerek (Explicit Euler, Implicit Euler, Crank-Nicolson)\n",
    "\n",
    "3.feladat. Határozzuk meg az alábbi módszerek konzisztencia rendjét:\n",
    "\n",
    "(a) explicit Euler, <br>\n",
    "(b) implicit Euler,<br>\n",
    "(c) trapéz módszer,<br>\n",
    "(d) $\\Theta$ séma.\n",
    "\n",
    "4.feladat. Tekintsük az\n",
    "\n",
    "\\begin{cases}\n",
    "\\dot u(t)= 1-u(t)&\\\\\n",
    "u(0)=0&\n",
    "\\end{cases}\n",
    "\n",
    "\n",
    "kezdetiérték-feladatot. Számítsuk ki a megoldás közelítõ értékét a $t=1$ pontban Euler-módszerrel, ha\n",
    "\n",
    "(a) $h=1/2$,<br>\n",
    "(b) $h=1/4$.\n",
    "\n",
    "5.feladat. Tekintsük az\n",
    "\n",
    "\\begin{cases}\n",
    "\\dot y(t)= \\dfrac{2y(t)}{t}&\\\\\n",
    "y(1)=1&\n",
    "\\end{cases}\n",
    "\n",
    "\n",
    "kezdetiérték-feladatot. Számítsuk ki a megoldás közelítõ értékét a $t=2$ pontban Euler-módszerrel, ha\n",
    "\n",
    "(a) $h=1$,<br>\n",
    "(b) $h=1/2$,<br>\n",
    "(c) $h=1/3$.\n"
   ]
  },
  {
   "cell_type": "code",
   "execution_count": 2,
   "metadata": {},
   "outputs": [
    {
     "name": "stdout",
     "output_type": "stream",
     "text": [
      "ans =  0.68359\n"
     ]
    }
   ],
   "source": [
    "175/256"
   ]
  },
  {
   "cell_type": "code",
   "execution_count": 2,
   "metadata": {},
   "outputs": [
    {
     "name": "stdout",
     "output_type": "stream",
     "text": [
      "ans =       3/4\n",
      "ans =   175/256\n"
     ]
    }
   ],
   "source": [
    "%4.feladat\n",
    "expliciteuler(0,1,0,0,2)\n",
    "expliciteuler(0,1,0,0,4)"
   ]
  },
  {
   "cell_type": "code",
   "execution_count": 6,
   "metadata": {},
   "outputs": [
    {
     "name": "stdout",
     "output_type": "stream",
     "text": [
      "ans =      10/3\n",
      "ans =      18/5\n"
     ]
    }
   ],
   "source": [
    "%5.feladat\n",
    "expliciteuler(1,2,1,1,2)\n",
    "expliciteuler(1,2,1,1,4)\n"
   ]
  },
  {
   "cell_type": "markdown",
   "metadata": {},
   "source": [
    "<br>\n",
    "6.feladat. Tekintsük az\n",
    "\n",
    "\\begin{cases}\n",
    "\\dot y(t)= 1-10y(t)&\\\\\n",
    "y(0)=0&\n",
    "\\end{cases}\n",
    "\n",
    "\n",
    "kezdetiérték-feladatot. Számítsuk ki a megoldás közelítõ értékét a $t=2$ pontban $h=1/2$ lépésközzel az alábbi módszerekkel:\n",
    "\n",
    "(a) explicit Euler,<br>\n",
    "(b) implicit Euler.\n",
    "\n",
    "7.feladat. Tekintsük az\n",
    "\n",
    "\\begin{cases}\n",
    "\\dot y(t)= \\dfrac{2y(t)}{t}&\\\\\n",
    "y(1)=1&\n",
    "\\end{cases}\n",
    "\n",
    "kezdetiérték-feladatot. Számítsuk ki a megoldás közelítõ értékét a $t=2$ pontban trapéz módszerrel, ha\n",
    "\n",
    "(a) $h=1$,<br>\n",
    "(b) $h=1/3$.\n"
   ]
  },
  {
   "cell_type": "code",
   "execution_count": null,
   "metadata": {
    "collapsed": true
   },
   "outputs": [],
   "source": []
  }
 ],
 "metadata": {
  "kernelspec": {
   "display_name": "Octave",
   "language": "octave",
   "name": "octave"
  },
  "language_info": {
   "file_extension": ".m",
   "help_links": [
    {
     "text": "GNU Octave",
     "url": "https://www.gnu.org/software/octave/support.html"
    },
    {
     "text": "Octave Kernel",
     "url": "https://github.com/Calysto/octave_kernel"
    },
    {
     "text": "MetaKernel Magics",
     "url": "https://github.com/calysto/metakernel/blob/master/metakernel/magics/README.md"
    }
   ],
   "mimetype": "text/x-octave",
   "name": "octave",
   "version": "4.2.2"
  }
 },
 "nbformat": 4,
 "nbformat_minor": 1
}
