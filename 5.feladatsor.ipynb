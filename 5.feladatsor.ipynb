{
 "cells": [
  {
   "cell_type": "markdown",
   "metadata": {},
   "source": [
    "# <center>Alkalmazott Analízis II.</center>\n",
    "## <center>5. Feladatsor</center>\n",
    "\n",
    "\n",
    "<img src=\"profschedule.gif\" width=\"700\">\n",
    "\n",
    "<br>\n",
    "### Explicit és implicit Runge-Kutta módszerek\n",
    "1.feladat. Válasszuk meg az\n",
    "\n",
    "$$y_{n+1}=y_n+h[c_1f(t_n,y_n)+c_2f(t_n+ah,y_n+bhf(t_n,y_n))]$$\n",
    "\n",
    "egylépéses módszerben a $c_1,c_2,a,b$ paraméterek értékeit, hogy a módszer rendje minél magasabb legyen!\n",
    "\n",
    "2.feladat. Tekintsük az\n",
    "\n",
    "\\begin{cases}\n",
    "\\dot y(t)= \\dfrac{2y(t)}{t}&\\\\\n",
    "y(1)=1 &\n",
    "\\end{cases}\n",
    "\n",
    "kezdetiérték-feladatot.\n",
    "\n",
    "(a) Tegyünk meg egy lépést $h=1$ és $h=1/2$ lépéstávolsággal az eddig megismert explicit Runge Kutta módszerek mindegyikével. <br>\n",
    "(b) Számoljuk ki a feladat megoldását és hasonlítsuk össze a kapott közelítõ értékeket a pontos megoldás $t=2$-ben felvett értékével.\n",
    "<br>\n",
    "\n"
   ]
  },
  {
   "cell_type": "code",
   "execution_count": 5,
   "metadata": {},
   "outputs": [
    {
     "name": "stdout",
     "output_type": "stream",
     "text": [
      "ans =  3.6667\n",
      "ans =  4.0000\n",
      "ans =  3.8762\n",
      "ans =  3.5000\n",
      "ans =  4.0000\n"
     ]
    }
   ],
   "source": [
    "javitotteuler(1,2,1,1,1)\n",
    "javitotteuler(1,2,1,1,200)\n",
    "407/105\n",
    "eulerheun(1,2,1,1,1)\n",
    "eulerheun(1,2,1,1,200)"
   ]
  },
  {
   "cell_type": "markdown",
   "metadata": {},
   "source": [
    "\n",
    "### Butcher-tablók\n",
    "\n",
    "3.feladat. Írjuk fel az eddig tanult explicit módszereket Butcher-táblázat formájában!\n",
    "\n",
    "4.feladat. Írjuk ki képlet alakban az alábbi, Butcher-táblázat formában megadott klasszikus negyedrendû Runge-Kutta módszert!\n",
    "\n",
    "<table style=\"text-align: center\" cellpadding=\"3px\" cellspacing=\"0px\">\n",
    "<tr>\n",
    "<td style=\"border-right:1px solid;\">0</td>\n",
    "</tr>\n",
    "<tr>\n",
    "<td style=\"border-right:1px solid;\">1/2</td>\n",
    "<td>1/2</td>\n",
    "</tr>\n",
    "<tr>\n",
    "<td style=\"border-right:1px solid;\">1/2</td>\n",
    "<td>0</td>\n",
    "<td>1/2</td>\n",
    "</tr>\n",
    "<tr>\n",
    "<td style=\"border-right:1px solid; border-bottom:1px solid;\">1</td>\n",
    "<td style=\"border-bottom:1px solid;\">0</td>\n",
    "<td style=\"border-bottom:1px solid;\">0</td>\n",
    "<td style=\"border-bottom:1px solid;\">1</td>\n",
    "<td style=\"border-bottom:1px solid;\"></td>\n",
    "</tr>\n",
    "<tr>\n",
    "<td style=\"border-right:1px solid;\"></td>\n",
    "<td>1/6</td>\n",
    "<td>1/3</td>\n",
    "<td>1/3</td>\n",
    "<td>1/6</td>\n",
    "</tr>\n",
    "</table>\n",
    "\n",
    "5.feladat. Írjuk fel képlet alakban az alábbi táblázatokban szereplõ módszereket.\n",
    "\n",
    "(a)<table style=\"text-align: center\" cellpadding=\"3px\" cellspacing=\"0px\">\n",
    "<tr>\n",
    "<td style=\"border-right:1px solid; border-bottom:1px solid;\">1</td>\n",
    "<td style=\"border-bottom:1px solid;\">1</td>\n",
    "</tr>\n",
    "<tr>\n",
    "<td style=\"border-right:1px solid;\"></td>\n",
    "<td>1</td>\n",
    "</tr>\n",
    "</table>\n",
    "\n",
    "(b)<table style=\"text-align: center\" cellpadding=\"3px\" cellspacing=\"0px\">\n",
    "<tr>\n",
    "<td style=\"border-right:1px solid; border-bottom:1px solid;\">1/2</td>\n",
    "<td style=\"border-bottom:1px solid;\">1/2</td>\n",
    "</tr>\n",
    "<tr>\n",
    "<td style=\"border-right:1px solid;\"></td>\n",
    "<td>1/2</td>\n",
    "</tr>\n",
    "</table>\n",
    "\n",
    "(c)<table style=\"text-align: center\" cellpadding=\"3px\" cellspacing=\"0px\">\n",
    "<tr>\n",
    "<td style=\"border-right:1px solid;\">0</td>\n",
    "<td >0</td>\n",
    "<td>0</td>\n",
    "</tr>\n",
    "<tr>\n",
    "<td style=\"border-right:1px solid; border-bottom:1px solid;\">1</td>\n",
    "<td style=\"border-bottom:1px solid;\">1/2</td>\n",
    "<td style=\"border-bottom:1px solid;\">1/2</td>\n",
    "</tr>\n",
    "<tr>\n",
    "<td style=\"border-right:1px solid;\"></td>\n",
    "<td>1/2</td>\n",
    "<td>1/2</td>\n",
    "</tr>\n",
    "</table>\n",
    "6.feladat. Írjuk fel az alábbi explicit Runge-Kutta módszerek Butcher-táblázatát! \n",
    "\n",
    "(a) $y_{n+1}=y_n+hf(t_n+\\frac{1}{2}h,y_n+\\frac{1}{2}hf(t_n,y_n))$<br>\n",
    "(b) $y_{n+1}=y_n+h[(1-\\frac{1}{2\\alpha})f(t_n,y_n)+\\frac{1}{2\\alpha}f(t_n+\\alpha h,y_n+\\alpha hf(t_n,y_n))]$\n",
    "\n"
   ]
  },
  {
   "cell_type": "code",
   "execution_count": null,
   "metadata": {
    "collapsed": true
   },
   "outputs": [],
   "source": []
  }
 ],
 "metadata": {
  "kernelspec": {
   "display_name": "Octave",
   "language": "octave",
   "name": "octave"
  },
  "language_info": {
   "file_extension": ".m",
   "help_links": [
    {
     "text": "GNU Octave",
     "url": "https://www.gnu.org/software/octave/support.html"
    },
    {
     "text": "Octave Kernel",
     "url": "https://github.com/Calysto/octave_kernel"
    },
    {
     "text": "MetaKernel Magics",
     "url": "https://github.com/calysto/metakernel/blob/master/metakernel/magics/README.md"
    }
   ],
   "mimetype": "text/x-octave",
   "name": "octave",
   "version": "4.2.1"
  }
 },
 "nbformat": 4,
 "nbformat_minor": 1
}
