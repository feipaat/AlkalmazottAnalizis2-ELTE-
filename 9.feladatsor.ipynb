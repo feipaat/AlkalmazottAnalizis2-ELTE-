{
 "cells": [
  {
   "cell_type": "markdown",
   "metadata": {},
   "source": [
    "# <center>Alkalmazott Analízis II.</center>\n",
    "## <center>9. Feladatsor</center>\n",
    "\n",
    "<img src=\"karacsony.gif\" width=\"700\">\n",
    "\n",
    "<br>\n",
    "\n",
    "### Parciális differenciálegyenletek, klasszikus megoldás\n",
    "\n",
    "1.feladat. Keressük meg a következõ feladatok $u:\\mathbb{R}^2\\rightarrow\\mathbb{R}$ megoldásait:\n",
    "\n",
    "(a) $\\partial_y u=0$,<br>\n",
    "(b) $\\partial_{xy}u=0$,<br>\n",
    "(c) $\\partial_{xy}u+2x\\partial_y u=x$,<br>\n",
    "(d) $\\partial_x u=\\partial_y u$,<br>\n",
    "(e) $\\partial_{x}^{2}u-\\partial_{y}^{2}u=0$,<br> \n",
    "(f) $\\partial_{x}^2u-a^2\\partial_y^2 u=0$ (ahol $a\\in\\mathbb{R}$),<br>\n",
    "(g) $(\\partial_x u)^2+(\\partial_y u)^2=0$,<br>\n",
    "(h) $\\partial_x u=f(x,y)$.\n",
    "\n",
    "2.feladat. Adjuk meg az alábbi Cauchy-feladatok $u\\in C^2(\\mathbb{R}^2)$ megoldásait:\n",
    "\n",
    "(a)\n",
    "\\begin{array}{ll}\n",
    "\\partial_x^2 u-\\partial_y^2 u=0 & \\\\\n",
    "u(0,y)=1 & \\\\\n",
    "\\partial_x u(0,y)=1 \n",
    "\\end{array}\n",
    "(b)\n",
    "\\begin{array}{ll}\n",
    "\\partial_{xy} u=x+y & \\\\\n",
    "u(x,x)=x & \\\\\n",
    "\\partial_x u(x,x)=0. \n",
    "\\end{array}\n",
    "\n",
    "3.feladat. Találjunk olyan $u:\\mathbb{R}^2\\rightarrow\\mathbb{R}$ polinomokat, amelyekre $\\Delta u=\\partial_x^2 u+\\partial_y^2 u=0$.\n",
    "\n",
    "4.feladat. Keressük meg a $\\partial_x^2 u=\\partial_y u$ egyenlet $u(x,y)=X(x)Y(y)$ speciális alakú megoldásait.\n",
    "<br>\n"
   ]
  },
  {
   "cell_type": "code",
   "execution_count": null,
   "metadata": {},
   "outputs": [],
   "source": []
  }
 ],
 "metadata": {
  "kernelspec": {
   "display_name": "Octave",
   "language": "octave",
   "name": "octave"
  },
  "language_info": {
   "file_extension": ".m",
   "help_links": [
    {
     "text": "GNU Octave",
     "url": "https://www.gnu.org/software/octave/support.html"
    },
    {
     "text": "Octave Kernel",
     "url": "https://github.com/Calysto/octave_kernel"
    },
    {
     "text": "MetaKernel Magics",
     "url": "https://github.com/calysto/metakernel/blob/master/metakernel/magics/README.md"
    }
   ],
   "mimetype": "text/x-octave",
   "name": "octave",
   "version": "4.2.1"
  }
 },
 "nbformat": 4,
 "nbformat_minor": 2
}
