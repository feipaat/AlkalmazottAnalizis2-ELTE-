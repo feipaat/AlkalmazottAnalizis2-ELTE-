{
 "cells": [
  {
   "cell_type": "markdown",
   "metadata": {},
   "source": [
    "# <center>Alkalmazott Analízis II.</center>\n",
    "## <center>6. Feladatsor</center>\n",
    "\n",
    "<img src=\"tanareletmod.gif\" width=\"700\">\n",
    "\n",
    "<br>\n",
    "### Dahlquist-féle tesztfeladat és A-stabil módszerek\n",
    "1.feladat. Határozzuk meg az Euler-módszer és az implicit Euler-módszer stabilitási tartományát! A-stabilak lesznek-e a módszerek?<br>\n"
   ]
  },
  {
   "cell_type": "code",
   "execution_count": 9,
   "metadata": {},
   "outputs": [
    {
     "data": {
      "image/png": "[encoded data removed]",
      "text/plain": [
       "<IPython.core.display.Image object>"
      ]
     },
     "metadata": {},
     "output_type": "display_data"
    }
   ],
   "source": [
    "%Explicit Euler\n",
    "clf;\n",
    "[X,Y] = meshgrid(linspace(-5,5), linspace(-5,5));\n",
    "Z = X+Y*1i;\n",
    "phi = 1+Z;\n",
    "contourf(X,Y,1-abs(phi), [0 0], 'LineWidth', 1);\n",
    "set(gca,'FontSize', 10, 'CLim', [0 1]);\n",
    "colormap([.1 .5 .3; 0 0 0; 1 1 1]);\n",
    "hold on;\n",
    "plot([-5 5], [0 0], '--k', 'LineWidth', 1);\n",
    "plot([0 0], [-5 5], '--k', 'LineWidth', 1);\n",
    "axis('square');\n",
    "title('Abszolut stabilitasi tartomany, EE')"
   ]
  },
  {
   "cell_type": "code",
   "execution_count": 10,
   "metadata": {},
   "outputs": [
    {
     "data": {
      "image/png": "[encoded data removed]",
      "text/plain": [
       "<IPython.core.display.Image object>"
      ]
     },
     "metadata": {},
     "output_type": "display_data"
    }
   ],
   "source": [
    "%Implicit Euler\n",
    "clf;\n",
    "[X,Y] = meshgrid(linspace(-5,5), linspace(-5,5));\n",
    "Z = X+Y*1i;\n",
    "phi = 1./(1-Z);\n",
    "contourf(X,Y,1-abs(phi), [0 0], 'LineWidth', 1);\n",
    "set(gca,'FontSize', 10, 'CLim', [0 1]);\n",
    "colormap([.1 .5 .3; 0 0 0; 1 1 1]);\n",
    "hold on;\n",
    "plot([-5 5], [0 0], '--k', 'LineWidth', 1);\n",
    "plot([0 0], [-5 5], '--k', 'LineWidth', 1);\n",
    "axis('square');\n",
    "title('Abszolut stabilitasi tartomany, IE')"
   ]
  },
  {
   "cell_type": "markdown",
   "metadata": {},
   "source": [
    "<br>\n",
    "\n",
    "2.feladat. Tekintsük az alábbi tesztfeladatot.\n",
    "\n",
    "\\begin{cases}\n",
    "\\dot y(t)= \\lambda y(t),\\ \\ \\ t\\in[0,\\infty),\\ \\lambda\\in\\mathbb{R}&\\\\\n",
    "y(0)=1 &\n",
    "\\end{cases}\n",
    "\n",
    "Az alábbi táblázatban a különbözõ $\\lambda$ értékekkel kitûzött tesztfeladat numerikus megoldásának hibáit láthatjuk a $t=1$ pontban.\n",
    "\n",
    "\n",
    "<table style=\"text-align: center\" cellpadding=\"3px\" cellspacing=\"0px\">\n",
    "<tr>\n",
    "<td style=\"border-right:1px solid;\">h</td>\n",
    "<td >$\\lambda$=-9 és EE</td>\n",
    "<td >$\\lambda$=-9 és IE</td>\n",
    "<td >$\\lambda$=-99 és EE</td>\n",
    "<td >$\\lambda$=-99 és IE</td>\n",
    "<td >$\\lambda$=-999 és EE</td>\n",
    "<td >$\\lambda$=-999 és IE</td>\n",
    "</tr>\n",
    "<tr>\n",
    "<td style=\"border-right:1px solid; border-bottom:1px solid;\">0.1</td>\n",
    "<td style=\"border-bottom:1px solid;\"> 3.07e-01</td>\n",
    "<td style=\"border-bottom:1px solid;\"> 1.20e-01</td>\n",
    "<td style=\"border-bottom:1px solid;\"> 3.12e+09</td>\n",
    "<td style=\"border-bottom:1px solid;\"> 9.17e-02</td>\n",
    "<td style=\"border-bottom:1px solid;\"> 8.95e+19</td>\n",
    "<td style=\"border-bottom:1px solid;\"> 9.93e-03</td>\n",
    "<tr>\n",
    "<td style=\"border-right:1px solid; border-bottom:1px solid;\">0.01</td>\n",
    "<td style=\"border-bottom:1px solid;\">1.72e-02</td>\n",
    "<td style=\"border-bottom:1px solid;\">1.60e-02</td>\n",
    "<td style=\"border-bottom:1px solid;\">3.62e-01</td>\n",
    "<td style=\"border-bottom:1px solid;\">1.31e-02</td>\n",
    "<td style=\"border-bottom:1px solid;\">2.38e+95</td>\n",
    "<td style=\"border-bottom:1px solid;\">9.09e-02</td>\n",
    "</tr><tr>\n",
    "<td style=\"border-right:1px solid; border-bottom:1px solid;\">0.001</td>\n",
    "<td style=\"border-bottom:1px solid;\">1.71e-03</td>\n",
    "<td style=\"border-bottom:1px solid;\">1.60e-03</td>\n",
    "<td style=\"border-bottom:1px solid;\">1.90e-02</td>\n",
    "<td style=\"border-bottom:1px solid;\">1.75e-02</td>\n",
    "<td style=\"border-bottom:1px solid;\">3.67e-01</td>\n",
    "<td style=\"border-bottom:1px solid;\">1.32e-01</td>\n",
    "</tr><tr>\n",
    "<td style=\"border-right:1px solid; border-bottom:1px solid;\">0.0001</td>\n",
    "<td style=\"border-bottom:1px solid;\">1.66e-04</td>\n",
    "<td style=\"border-bottom:1px solid;\">1.65e-04</td>\n",
    "<td style=\"border-bottom:1px solid;\">1.78e-03</td>\n",
    "<td style=\"border-bottom:1px solid;\">1.68e-03</td>\n",
    "<td style=\"border-bottom:1px solid;\">1.92e-02</td>\n",
    "<td style=\"border-bottom:1px solid;\">1.76e-02</td>\n",
    "</tr><tr>\n",
    "<td style=\"border-right:1px solid; border-bottom:1px solid;\">0.00001</td>\n",
    "<td style=\"border-bottom:1px solid;\">1.66e-05</td>\n",
    "<td style=\"border-bottom:1px solid;\">1.65e-05</td>\n",
    "<td style=\"border-bottom:1px solid;\">1.82e-04</td>\n",
    "<td style=\"border-bottom:1px solid;\">1.82e-04</td>\n",
    "<td style=\"border-bottom:1px solid;\">1.83e-03</td>\n",
    "<td style=\"border-bottom:1px solid;\">1.83e-03</td>\n",
    "</tr>\n",
    "</table>\n",
    "\n",
    "Adjunk magyarázatot arra, hogy miért viselkednek ennyire eltérõen az explicit és implicit Euler-módszerek bizonyos $h$ értékek esetén!\n",
    "\n",
    "3.feladat. Határozzuk meg a trapéz módszer stabilitási tartományát! A-stabil lesz a módszer?\n"
   ]
  },
  {
   "cell_type": "code",
   "execution_count": 13,
   "metadata": {},
   "outputs": [
    {
     "name": "stdout",
     "output_type": "stream",
     "text": [
      "ans =  0.0020020\n"
     ]
    }
   ],
   "source": [
    "2/999"
   ]
  },
  {
   "cell_type": "code",
   "execution_count": 2,
   "metadata": {},
   "outputs": [
    {
     "data": {
      "image/png": "[encoded data removed]",
      "text/plain": [
       "<IPython.core.display.Image object>"
      ]
     },
     "metadata": {},
     "output_type": "display_data"
    }
   ],
   "source": [
    "clf;\n",
    "[X,Y] = meshgrid(linspace(-5,5), linspace(-5,5));\n",
    "Z = X+Y*1i;\n",
    "phi = (2+Z)./(2-Z);\n",
    "contourf(X,Y,1-abs(phi), [0 0], 'LineWidth', 1);\n",
    "set(gca,'FontSize', 10, 'CLim', [0 1]);\n",
    "colormap([.1 .5 .3; 0 0 0; 1 1 1]);\n",
    "hold on;\n",
    "plot([-5 5], [0 0], '--k', 'LineWidth', 1);\n",
    "plot([0 0], [-5 5], '--k', 'LineWidth', 1);\n",
    "axis('square');\n",
    "title('Abszolut stabilitasi tartomany, ')"
   ]
  },
  {
   "cell_type": "markdown",
   "metadata": {},
   "source": [
    "4.feladat. Válaszoljuk meg az alábbi trapéz módszerrel kapcsolatos kérdéseket.\n",
    "\n",
    "(a) Hogyan viselkedik a módszer negatív valós $\\lambda$-kra ($|\\lambda|>>1$)?<br>\n",
    "\n",
    "(b) Hogyan viselkedik a módszer $h>2/(-\\lambda),\\ \\lambda\\in\\mathbb{R}^{-}$ esetén?\n"
   ]
  },
  {
   "cell_type": "code",
   "execution_count": 10,
   "metadata": {},
   "outputs": [
    {
     "data": {
      "image/png": "[encoded data removed]",
      "text/plain": [
       "<IPython.core.display.Image object>"
      ]
     },
     "metadata": {},
     "output_type": "display_data"
    }
   ],
   "source": [
    "[X,Y]=meshgrid(-7:0.1:7,-7:0.1:7);\n",
    "Z=X +Y*i;\n",
    "\n",
    "%Explicit Euler\n",
    "M=abs(1+Z);\n",
    "[c,h]=contour(X,Y,M,[1,1]);\n",
    "set(h,'linewidth',1,'edgecolor','g')\n",
    "hold on\n",
    "\n",
    "\n",
    "%Euler-Heun módszer\n",
    "M=abs(1+Z/2.*(2+Z));\n",
    "[c,h]=contour(X,Y,M,[1,1]);\n",
    "set(h,'linewidth',1,'edgecolor','r')\n",
    "\n",
    "%RK3\n",
    "M=abs(1+Z/6.*(6+Z/3.*(9+3*Z)));\n",
    "[c,h]=contour(X,Y,M,[1,1]);\n",
    "set(h,'linewidth',1,'edgecolor','m')\n",
    "\n",
    "%RK4\n",
    "M=abs(1+Z/24.*(24+Z/12.*(144+Z/48.*(2304+576*Z))));\n",
    "[c,h]=contour(X,Y,M,[1,1]);\n",
    "set(h,'linewidth',1,'edgecolor','b')\n",
    "axis equal\n",
    "\n",
    "%Implicit Euler\n",
    "%M=abs(1./(1-Z));\n",
    "%[c,h]=contour(X,Y,M,[1,1]);\n",
    "%set(h,'linewidth',2,'edgecolor','y')\n",
    "\n",
    "%Trapéz módszer\n",
    "%M=abs((2+Z)./(2-Z));\n",
    "%[c,h]=contour(X,Y,M,[1,1]);\n",
    "%set(h,'linewidth',2,'edgecolor','b')\n",
    "\n",
    "y=-7:0.1:7;\n",
    "x=0*y;\n",
    "plot(x,y,'k--')\n",
    "\n",
    "title('Abszolut stabilitasi tartomanyok')\n",
    "legend('RK1 (Explicit Euler)', 'RK2 (Euler-Heun)', 'RK3', 'RK4')"
   ]
  },
  {
   "cell_type": "code",
   "execution_count": null,
   "metadata": {
    "collapsed": true
   },
   "outputs": [],
   "source": []
  }
 ],
 "metadata": {
  "kernelspec": {
   "display_name": "Octave",
   "language": "octave",
   "name": "octave"
  },
  "language_info": {
   "file_extension": ".m",
   "help_links": [
    {
     "text": "GNU Octave",
     "url": "https://www.gnu.org/software/octave/support.html"
    },
    {
     "text": "Octave Kernel",
     "url": "https://github.com/Calysto/octave_kernel"
    },
    {
     "text": "MetaKernel Magics",
     "url": "https://github.com/calysto/metakernel/blob/master/metakernel/magics/README.md"
    }
   ],
   "mimetype": "text/x-octave",
   "name": "octave",
   "version": "4.2.1"
  }
 },
 "nbformat": 4,
 "nbformat_minor": 2
}
